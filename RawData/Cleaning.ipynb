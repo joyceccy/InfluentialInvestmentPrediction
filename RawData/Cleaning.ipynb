{
 "cells": [
  {
   "cell_type": "code",
   "execution_count": 4,
   "metadata": {},
   "outputs": [],
   "source": [
    "import pandas\n",
    "import glob\n"
   ]
  },
  {
   "cell_type": "code",
   "execution_count": 8,
   "metadata": {},
   "outputs": [],
   "source": [
    "files = glob.glob(\"*.csv\")\n",
    "\n",
    "for x in files:\n",
    "   if (x[0] == \"C\"):\n",
    "    pass\n",
    "   else:\n",
    "\n",
    "       df = pandas.read_csv(x)\n",
    "        \n",
    "        # Remove all put and call holdings for now\n",
    "       df= df[df.putCall != 'Call']\n",
    "       df= df[df.putCall != 'Put']\n",
    "        \n",
    "        # Remove the PRN holdings\n",
    "       df= df[df.sshPrnamtType != 'PRN']\n",
    "        \n",
    "        #Combine all duplicate entries\n",
    "       df = df.groupby(['nameOfIssuer']).sum()\n",
    "     \n",
    "        #Remove columns that we don't need\n",
    "       df = df[df.columns.difference(['Sole', 'Shared','None','titleOfClass','cusip','sshPrnamtType','investmentDiscretion','otherManager','putCall'])]\n",
    "       \n",
    "          #\n",
    "       df['sprice'] = (df['value'] / df['sshPrnamt']) *1000 \n",
    "       df = df[df.columns.difference(['value'])]\n",
    "        \n",
    "       df.to_csv(\"Clean\"+x)\n",
    "        "
   ]
  },
  {
   "cell_type": "code",
   "execution_count": 10,
   "metadata": {},
   "outputs": [],
   "source": [
    "#retrieve and sort the cleaned files\n",
    "cfiles = glob.glob(\"*.csv\")\n",
    "cfiles = sorted(cfiles)\n",
    "\n",
    "#make our final dataframe to populate\n",
    "fdf = pandas.DataFrame()\n",
    "\n",
    "#Merge all of the data tables together; the names of columns are ugly so we need to rename them\n",
    "merged = pandas.read_csv(cfiles[4])\n",
    "for x in range(int(len(cfiles)/2)+1,len(cfiles)):\n",
    "    merged = pandas.merge(merged, pandas.read_csv(cfiles[x]), on = ['nameOfIssuer','nameOfIssuer'])\n",
    "\n",
    "#accumulator for initial new column names\n",
    "colnames = ['Company']\n",
    "\n",
    "    \n",
    "for x in range(0,len(cfiles)):\n",
    "    if ((cfiles[x])[0] == \"C\"):\n",
    "        \n",
    "        #Making the column headers for our new table from our old ones\n",
    "        amt = (cfiles[x])[5:9] + \"price\"\n",
    "        mon = (cfiles[x])[5:9] + \"amt\"    \n",
    "        colnames.append(amt)\n",
    "        colnames.append(mon)\n",
    "\n",
    "#put logic column names on columns        \n",
    "merged.columns = colnames\n",
    "\n",
    "    \n",
    "for x in range(0,len(cfiles)):\n",
    "    if ((cfiles[x])[0] == \"C\"):\n",
    "        #add columns for calculated difference in number of shares\n",
    "        if (x < len(cfiles)-1):\n",
    "        \n",
    "            first = (cfiles[x])[5:9]\n",
    "            second = (cfiles[x+1])[5:9]\n",
    "            diff= first + \"-\" + second + \"chng\"\n",
    "            colnames.append(diff)\n",
    "        \n",
    "            merged[diff]= merged[(second+\"amt\")] - merged[(first+\"amt\")]\n",
    "             \n",
    "        \n",
    "#add col headers for the differences        \n",
    "merged.columns = colnames\n",
    "merged.to_csv(\"Final.csv\")\n",
    "#merged"
   ]
  },
  {
   "cell_type": "code",
   "execution_count": null,
   "metadata": {
    "collapsed": true
   },
   "outputs": [],
   "source": []
  }
 ],
 "metadata": {
  "kernelspec": {
   "display_name": "Python 3",
   "language": "python",
   "name": "python3"
  },
  "language_info": {
   "codemirror_mode": {
    "name": "ipython",
    "version": 3
   },
   "file_extension": ".py",
   "mimetype": "text/x-python",
   "name": "python",
   "nbconvert_exporter": "python",
   "pygments_lexer": "ipython3",
   "version": "3.6.1"
  }
 },
 "nbformat": 4,
 "nbformat_minor": 2
}
