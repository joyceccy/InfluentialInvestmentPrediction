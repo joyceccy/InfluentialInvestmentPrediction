{
 "cells": [
  {
   "cell_type": "code",
   "execution_count": 1,
   "metadata": {
    "collapsed": true
   },
   "outputs": [],
   "source": [
    "import pandas\n",
    "import glob\n"
   ]
  },
  {
   "cell_type": "code",
   "execution_count": 3,
   "metadata": {},
   "outputs": [
    {
     "name": "stdout",
     "output_type": "stream",
     "text": [
      "0214.csv\n",
      "0514.csv\n",
      "0814.csv\n",
      "1114.csv\n"
     ]
    }
   ],
   "source": [
    "files = glob.glob(\"*.csv\")\n",
    "\n",
    "for x in files:\n",
    "   if (x[0] == \"C\"):\n",
    "    pass\n",
    "   else:\n",
    "       print(x)\n",
    "       df = pandas.read_csv(x)\n",
    "        # Remove all put and call holdings for now\n",
    "       df= df[df.putCall != 'Call']\n",
    "       df= df[df.putCall != 'Put']\n",
    "        # Remove the PRN holdings\n",
    "       df= df[df.sshPrnamtType != 'PRN']\n",
    "        #Combine all duplicate entries\n",
    "       df = df.groupby(['nameOfIssuer']).sum()\n",
    "        #Remove columns that we don't need\n",
    "       df = df[df.columns.difference(['Sole', 'Shared','None','titleOfClass','cusip','sshPrnamtType','investmentDiscretion','otherManager','putCall'])]\n",
    "       df.to_csv(\"Clean\"+x)\n"
   ]
  },
  {
   "cell_type": "code",
   "execution_count": null,
   "metadata": {},
   "outputs": [],
   "source": [
    "pandas.read_csv('CleanFeb14GS.csv')"
   ]
  },
  {
   "cell_type": "code",
   "execution_count": null,
   "metadata": {
    "collapsed": true
   },
   "outputs": [],
   "source": []
  }
 ],
 "metadata": {
  "kernelspec": {
   "display_name": "Python 3",
   "language": "python",
   "name": "python3"
  },
  "language_info": {
   "codemirror_mode": {
    "name": "ipython",
    "version": 3
   },
   "file_extension": ".py",
   "mimetype": "text/x-python",
   "name": "python",
   "nbconvert_exporter": "python",
   "pygments_lexer": "ipython3",
   "version": "3.6.1"
  }
 },
 "nbformat": 4,
 "nbformat_minor": 2
}
