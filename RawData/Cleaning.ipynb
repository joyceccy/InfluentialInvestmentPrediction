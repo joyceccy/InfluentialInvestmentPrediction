{
 "cells": [
  {
   "cell_type": "code",
   "execution_count": 24,
   "metadata": {},
   "outputs": [],
   "source": [
    "import pandas\n",
    "import glob\n",
    "import numpy"
   ]
  },
  {
   "cell_type": "code",
   "execution_count": 25,
   "metadata": {},
   "outputs": [
    {
     "name": "stdout",
     "output_type": "stream",
     "text": [
      "0214.csv\n",
      "0514.csv\n",
      "0814.csv\n",
      "1114.csv\n"
     ]
    }
   ],
   "source": [
    "files = glob.glob(\"*.csv\")\n",
    "\n",
    "for x in files:\n",
    "   if (x[0] == \"C\"):\n",
    "    pass\n",
    "   else:\n",
    "       print(x)\n",
    "       df = pandas.read_csv(x)\n",
    "        # Remove all put and call holdings for now\n",
    "       df= df[df.putCall != 'Call']\n",
    "       df= df[df.putCall != 'Put']\n",
    "        # Remove the PRN holdings\n",
    "       df= df[df.sshPrnamtType != 'PRN']\n",
    "        #Combine all duplicate entries\n",
    "       df = df.groupby(['nameOfIssuer']).sum()\n",
    "        #Remove columns that we don't need\n",
    "       df = df[df.columns.difference(['Sole', 'Shared','None','titleOfClass','cusip','sshPrnamtType','investmentDiscretion','otherManager','putCall'])]\n",
    "       df.to_csv(\"Clean\"+x)\n"
   ]
  },
  {
   "cell_type": "code",
   "execution_count": 66,
   "metadata": {},
   "outputs": [
    {
     "ename": "AttributeError",
     "evalue": "'list' object has no attribute 'add'",
     "output_type": "error",
     "traceback": [
      "\u001b[1;31m---------------------------------------------------------------------------\u001b[0m",
      "\u001b[1;31mAttributeError\u001b[0m                            Traceback (most recent call last)",
      "\u001b[1;32m<ipython-input-66-1d4cf4d72cca>\u001b[0m in \u001b[0;36m<module>\u001b[1;34m()\u001b[0m\n\u001b[0;32m     23\u001b[0m         \u001b[0mmon\u001b[0m \u001b[1;33m=\u001b[0m \u001b[1;33m(\u001b[0m\u001b[0mcfiles\u001b[0m\u001b[1;33m[\u001b[0m\u001b[0mx\u001b[0m\u001b[1;33m]\u001b[0m\u001b[1;33m)\u001b[0m\u001b[1;33m[\u001b[0m\u001b[1;36m5\u001b[0m\u001b[1;33m:\u001b[0m\u001b[1;36m9\u001b[0m\u001b[1;33m]\u001b[0m \u001b[1;33m+\u001b[0m \u001b[1;34m\"mon\"\u001b[0m\u001b[1;33m\u001b[0m\u001b[0m\n\u001b[0;32m     24\u001b[0m \u001b[1;33m\u001b[0m\u001b[0m\n\u001b[1;32m---> 25\u001b[1;33m         \u001b[0mnames\u001b[0m\u001b[1;33m.\u001b[0m\u001b[0madd\u001b[0m\u001b[1;33m(\u001b[0m\u001b[0mamt\u001b[0m\u001b[1;33m)\u001b[0m\u001b[1;33m\u001b[0m\u001b[0m\n\u001b[0m\u001b[0;32m     26\u001b[0m         \u001b[0mnames\u001b[0m\u001b[1;33m.\u001b[0m\u001b[0madd\u001b[0m\u001b[1;33m(\u001b[0m\u001b[0mmon\u001b[0m\u001b[1;33m)\u001b[0m\u001b[1;33m\u001b[0m\u001b[0m\n\u001b[0;32m     27\u001b[0m \u001b[1;33m\u001b[0m\u001b[0m\n",
      "\u001b[1;31mAttributeError\u001b[0m: 'list' object has no attribute 'add'"
     ]
    }
   ],
   "source": [
    "#retrieve and sort the cleaned files\n",
    "cfiles = glob.glob(\"*.csv\")\n",
    "cfiles = sorted(cfiles)\n",
    "\n",
    "#make our final dataframe to populate\n",
    "fdf = pandas.DataFrame()\n",
    "\n",
    "\n",
    "merged = pandas.read_csv(cfiles[4])\n",
    "for x in range(int(len(cfiles)/2)+1,len(cfiles)):\n",
    "    merged = pandas.merge(merged, pandas.read_csv(cfiles[x]), on = ['nameOfIssuer','nameOfIssuer'])\n",
    "\n",
    "names = []\n",
    "\n",
    "\n",
    "#add columns for company names\n",
    "fdf['Company'] = numpy.nan\n",
    "    \n",
    "for x in range(0,len(cfiles)):\n",
    "    if ((cfiles[x])[0] == \"C\"):\n",
    "        \n",
    "        amt = (cfiles[x])[5:9] + \"amt\"\n",
    "        mon = (cfiles[x])[5:9] + \"mon\"\n",
    "        \n",
    "        names.add(amt)\n",
    "        names.add(mon)\n",
    "        \n",
    "        #add columns for monetary value of holdings at each quarter\n",
    "        money = \"$\" + ((cfiles[x])[5:9])\n",
    "        fdf[money] = numpy.nan\n",
    "        \n",
    "        #add columns for calculated difference in number of shares\n",
    "        if (x < len(cfiles)-1):\n",
    "        \n",
    "            diff= (cfiles[x])[5:9] + \"-\" + (cfiles[x+1])[5:9]\n",
    "            fdf[diff]= numpy.nan\n",
    "        \n",
    "        \n",
    "        \n",
    "        \n",
    "names"
   ]
  },
  {
   "cell_type": "code",
   "execution_count": null,
   "metadata": {
    "collapsed": true
   },
   "outputs": [],
   "source": []
  }
 ],
 "metadata": {
  "kernelspec": {
   "display_name": "Python 3",
   "language": "python",
   "name": "python3"
  },
  "language_info": {
   "codemirror_mode": {
    "name": "ipython",
    "version": 3
   },
   "file_extension": ".py",
   "mimetype": "text/x-python",
   "name": "python",
   "nbconvert_exporter": "python",
   "pygments_lexer": "ipython3",
   "version": "3.6.1"
  }
 },
 "nbformat": 4,
 "nbformat_minor": 2
}
