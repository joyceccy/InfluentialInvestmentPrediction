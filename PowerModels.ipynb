{
 "cells": [
  {
   "cell_type": "code",
   "execution_count": 9,
   "metadata": {
    "collapsed": true
   },
   "outputs": [],
   "source": [
    "import numpy as np\n",
    "import scipy as sc\n",
    "import matplotlib.pyplot as plt\n",
    "import pandas as pd\n",
    "from sklearn import datasets, linear_model\n"
   ]
  },
  {
   "cell_type": "code",
   "execution_count": 10,
   "metadata": {
    "collapsed": true
   },
   "outputs": [],
   "source": [
    "X = pd.read_csv(\"RawData/Final.csv\")\n"
   ]
  },
  {
   "cell_type": "code",
   "execution_count": 11,
   "metadata": {
    "collapsed": true
   },
   "outputs": [],
   "source": [
    "abschng1 =np.abs(X['0214-0514chng'])\n",
    "abschng2 = np.abs(X['0514-0814chng'])\n",
    "abschng3 = np.abs(X['0814-1114chng'])\n",
    "\n",
    "ty1 = (X['0514price'] - X['0214price'])/X['0514price']\n",
    "ty2 = (X['0514price'] - X['0814price'])/X['0514price']\n",
    "ty3 = (X['0814price'] - X['1114price'])/X['0814price']\n",
    "absy1 = np.abs(ty1)\n",
    "absy2 = np.abs(ty2)\n",
    "absy3 = np.abs(ty3)\n",
    "\n",
    "\n",
    "y1 = (absy1- np.mean(absy1))/np.std(absy1)\n",
    "x1 = (abschng1 - np.mean(abschng1))/(np.std(abschng1))\n",
    "\n",
    "y2 = (absy2- np.mean(absy2))/np.std(absy2)\n",
    "x2 = (abschng2 - np.mean(abschng2))/(np.std(abschng2))\n",
    "\n",
    "y3 = (absy3- np.mean(absy3))/np.std(absy3)\n",
    "x3 = (abschng3 - np.mean(abschng3))/(np.std(abschng3))\n"
   ]
  },
  {
   "cell_type": "code",
   "execution_count": null,
   "metadata": {},
   "outputs": [],
   "source": []
  },
  {
   "cell_type": "code",
   "execution_count": 12,
   "metadata": {
    "collapsed": true
   },
   "outputs": [],
   "source": [
    "z1 = np.polyfit(x1,y1,2)\n",
    "z2 = np.polyfit(x2,y2,2)\n",
    "z3 = np.polyfit(x3,y3,2)"
   ]
  },
  {
   "cell_type": "code",
   "execution_count": 23,
   "metadata": {},
   "outputs": [
    {
     "name": "stdout",
     "output_type": "stream",
     "text": [
      "[ 0.00022045 -0.01220745  0.1497596   0.00898977]\n",
      "[ 0.00068248 -0.02240828  0.14366245  0.01087055]\n",
      "[-0.00081043  0.01721594 -0.07719467 -0.01008991]\n",
      "[  3.08333819e-05  -5.79992833e-03   7.20757895e-02   3.25680535e-03]\n"
     ]
    }
   ],
   "source": [
    "z1 = np.polyfit(x1,y1,3)\n",
    "z2 = np.polyfit(x2,y2,3)\n",
    "z3 = np.polyfit(x3,y3,3)\n",
    "print(z1)\n",
    "print(z2)\n",
    "print(z3)\n",
    "print((z1+z2+z3)/3)\n",
    "\n",
    "\n"
   ]
  },
  {
   "cell_type": "code",
   "execution_count": 21,
   "metadata": {},
   "outputs": [
    {
     "data": {
      "image/png": "[encoded data removed]",
      "text/plain": [
       "<matplotlib.figure.Figure at 0x1ca1082a0f0>"
      ]
     },
     "metadata": {},
     "output_type": "display_data"
    }
   ],
   "source": [
    "p1 = np.poly1d(z1)\n",
    "p2 = np.poly1d(z2)\n",
    "p3 = np.poly1d(z3)\n",
    "plt.scatter(x1, y1,  color='black')\n",
    "plt.scatter(x2,y2, color='black')\n",
    "plt.scatter(x3,y3, color = 'black')\n",
    "xd = np.random.uniform(low=0, high=30, size=(1000,))\n",
    "xd.sort()\n",
    "plt.plot(xd, p1(xd), color='blue', linewidth=3)\n",
    "plt.plot(xd, p2(xd), color = 'green', linewidth = 3)\n",
    "plt.plot(xd, p3(xd), color = 'red', linewidth = 3)\n",
    "plt.ylabel(\"Normalized Percent Absolute \\n Value Change of Stock Price\")\n",
    "plt.xlabel(\"Normalized Investment Amount\" )\n",
    "\n",
    "\n",
    "plt.show()"
   ]
  },
  {
   "cell_type": "code",
   "execution_count": 222,
   "metadata": {},
   "outputs": [
    {
     "ename": "TypeError",
     "evalue": "unsupported operand type(s) for ^: 'numpy.float64' and 'int'",
     "output_type": "error",
     "traceback": [
      "\u001b[1;31m---------------------------------------------------------------------------\u001b[0m",
      "\u001b[1;31mTypeError\u001b[0m                                 Traceback (most recent call last)",
      "\u001b[1;32m<ipython-input-222-4cc4ec0ea833>\u001b[0m in \u001b[0;36m<module>\u001b[1;34m()\u001b[0m\n\u001b[0;32m      2\u001b[0m \u001b[0mR\u001b[0m \u001b[1;33m=\u001b[0m \u001b[1;36m0\u001b[0m\u001b[1;33m\u001b[0m\u001b[0m\n\u001b[0;32m      3\u001b[0m \u001b[1;32mfor\u001b[0m \u001b[0mi\u001b[0m \u001b[1;32min\u001b[0m \u001b[0mrange\u001b[0m\u001b[1;33m(\u001b[0m\u001b[1;36m1\u001b[0m\u001b[1;33m,\u001b[0m\u001b[0mn\u001b[0m\u001b[1;33m)\u001b[0m\u001b[1;33m:\u001b[0m\u001b[1;33m\u001b[0m\u001b[0m\n\u001b[1;32m----> 4\u001b[1;33m     \u001b[0mSST\u001b[0m \u001b[1;33m=\u001b[0m \u001b[1;33m(\u001b[0m\u001b[1;33m(\u001b[0m\u001b[0my3\u001b[0m\u001b[1;33m[\u001b[0m\u001b[0mi\u001b[0m\u001b[1;33m]\u001b[0m \u001b[1;33m-\u001b[0m \u001b[0mnp\u001b[0m\u001b[1;33m.\u001b[0m\u001b[0mmean\u001b[0m\u001b[1;33m(\u001b[0m\u001b[0my3\u001b[0m\u001b[1;33m)\u001b[0m\u001b[1;33m)\u001b[0m\u001b[1;33m^\u001b[0m\u001b[1;36m2\u001b[0m\u001b[1;33m)\u001b[0m\u001b[1;33m\u001b[0m\u001b[0m\n\u001b[0m\u001b[0;32m      5\u001b[0m     \u001b[0mSSReg\u001b[0m \u001b[1;33m=\u001b[0m\u001b[1;33m(\u001b[0m\u001b[1;33m(\u001b[0m\u001b[1;33m(\u001b[0m\u001b[0mp3\u001b[0m\u001b[1;33m(\u001b[0m\u001b[0my3\u001b[0m\u001b[1;33m)\u001b[0m\u001b[1;33m[\u001b[0m\u001b[0mi\u001b[0m\u001b[1;33m]\u001b[0m \u001b[1;33m-\u001b[0m \u001b[0mnp\u001b[0m\u001b[1;33m.\u001b[0m\u001b[0mmean\u001b[0m\u001b[1;33m(\u001b[0m\u001b[0my3\u001b[0m\u001b[1;33m)\u001b[0m\u001b[1;33m)\u001b[0m\u001b[1;33m^\u001b[0m\u001b[1;36m2\u001b[0m\u001b[1;33m)\u001b[0m\u001b[1;33m)\u001b[0m\u001b[1;33m\u001b[0m\u001b[0m\n\u001b[0;32m      6\u001b[0m     \u001b[0mprint\u001b[0m\u001b[1;33m(\u001b[0m\u001b[1;34m\"hi\"\u001b[0m\u001b[1;33m)\u001b[0m\u001b[1;33m\u001b[0m\u001b[0m\n",
      "\u001b[1;31mTypeError\u001b[0m: unsupported operand type(s) for ^: 'numpy.float64' and 'int'"
     ]
    }
   ],
   "source": []
  },
  {
   "cell_type": "code",
   "execution_count": null,
   "metadata": {
    "collapsed": true
   },
   "outputs": [],
   "source": []
  }
 ],
 "metadata": {
  "kernelspec": {
   "display_name": "Python 3",
   "language": "python",
   "name": "python3"
  },
  "language_info": {
   "codemirror_mode": {
    "name": "ipython",
    "version": 3
   },
   "file_extension": ".py",
   "mimetype": "text/x-python",
   "name": "python",
   "nbconvert_exporter": "python",
   "pygments_lexer": "ipython3",
   "version": "3.6.1"
  }
 },
 "nbformat": 4,
 "nbformat_minor": 2
}
